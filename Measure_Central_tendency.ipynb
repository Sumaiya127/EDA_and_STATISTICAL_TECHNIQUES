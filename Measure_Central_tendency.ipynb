{
 "cells": [
  {
   "cell_type": "code",
   "execution_count": 1,
   "id": "8ed48336",
   "metadata": {},
   "outputs": [],
   "source": [
    "import numpy as np\n",
    "import pandas as pd"
   ]
  },
  {
   "cell_type": "code",
   "execution_count": 3,
   "id": "bca0a3f3",
   "metadata": {},
   "outputs": [
    {
     "name": "stdout",
     "output_type": "stream",
     "text": [
      "Mean: 6.7\n",
      "Median: 7.0\n",
      "Mode: 7\n"
     ]
    }
   ],
   "source": [
    "##SAMPLE DATA\n",
    "\n",
    "data = [4, 5, 5, 6, 7, 7, 7, 8, 9, 9]\n",
    "\n",
    "##CALCULATING MEAN AND MEDIAN USING NUMPY\n",
    "mean= np.mean(data)\n",
    "median= np.median(data)\n",
    "\n",
    "##FOR MODE,WE'LL USE PANDAS AS NUMPY DOES NOT HAVE DIRECT METHOD\n",
    "\n",
    "mode= pd.Series(data).mode()\n",
    "\n",
    "##PRINTING RESULTS\n",
    "\n",
    "print(f\"Mean: {mean}\")\n",
    "print(f\"Median: {median}\")\n",
    "print(f\"Mode: {mode.iloc[0]}\") ##ILOC IS USED TO RETRIVE THE FIRST VALUE INCASE THERE ARE MORE THAN 1 MODES"
   ]
  },
  {
   "cell_type": "markdown",
   "id": "ece06ef8",
   "metadata": {},
   "source": [
    "###Hypothesis Testing¶\n",
    "\n",
    "In this example, we'll use the scipy library to perform a one-sample t-test. This test determines whether the mean of a sample dataset is statistically different from a known or hypothesized population mean.\n",
    "\n",
    "Let's assume you have sample data from students' scores in a particular exam, and you want to test if the mean of this sample differs significantly from a hypothesized average score of 50."
   ]
  },
  {
   "cell_type": "code",
   "execution_count": 4,
   "id": "ee3e87dc",
   "metadata": {},
   "outputs": [],
   "source": [
    "##EXAMPLE-1\n",
    "\n",
    "from scipy import stats"
   ]
  },
  {
   "cell_type": "code",
   "execution_count": 5,
   "id": "1a1128a2",
   "metadata": {},
   "outputs": [
    {
     "name": "stdout",
     "output_type": "stream",
     "text": [
      "t-statistic: 0.6279069767441852\n",
      "p-value: 0.5456654892990036\n",
      "We fail to reject the null hypothesis: There's no significant difference between the sample mean and the hypothesized population mean.\n"
     ]
    }
   ],
   "source": [
    "##SAMPLE EXAM SCORES\n",
    "data = [56, 45, 48, 52, 58, 49, 46, 47, 53, 55]\n",
    "\n",
    "##HYPOTHESIZED POPULATION MEAN\n",
    "\n",
    "mu = 50\n",
    "\n",
    "##ONE-SAMPLE t-TEST\n",
    "\n",
    "t_statistic, p_value = stats.ttest_1samp(data, mu)\n",
    "\n",
    "##PRINTING RESULTS\n",
    "\n",
    "print(f\"t-statistic: {t_statistic}\")\n",
    "print(f\"p-value: {p_value}\")\n",
    "\n",
    "##INTERPRETATION OF RESULTS\n",
    "\n",
    "alpha = 0.05  # significance level\n",
    "if p_value < alpha:\n",
    "    print(\"We reject the null hypothesis: The sample mean is significantly different from the hypothesized population mean.\")\n",
    "else:\n",
    "    print(\"We fail to reject the null hypothesis: There's no significant difference between the sample mean and the hypothesized population mean.\")\n",
    "\n"
   ]
  },
  {
   "cell_type": "code",
   "execution_count": 6,
   "id": "83b11f8c",
   "metadata": {},
   "outputs": [
    {
     "name": "stdout",
     "output_type": "stream",
     "text": [
      "T-statistic: 0.6409183514112012\n",
      "P-value: 0.5225602746220779\n",
      "Fail to reject the null hypothesis: The data does not provide enough evidence to say the mean sepal_length is different from the hypothesized mean.\n"
     ]
    }
   ],
   "source": [
    "##EXAMPLE-2\n",
    "\n",
    "import seaborn as sns\n",
    "from scipy.stats import ttest_1samp\n",
    "\n",
    "##LOADING IRIS DATASET\n",
    "df = sns.load_dataset('iris')\n",
    "\n",
    "##HYPOTHESIZED POPULATION MEAN FOR SEPAL_LENGTH(LET'S TAKE 5.8)\n",
    "mu_hypothesized = 5.8\n",
    "\n",
    "##ONE-SAMPLE t-TEST\n",
    "t_stat, p_value = ttest_1samp(df['sepal_length'], mu_hypothesized)\n",
    "\n",
    "##PRINTING RESULTS\n",
    "print(f\"T-statistic: {t_stat}\")\n",
    "print(f\"P-value: {p_value}\")\n",
    "\n",
    "alpha = 0.05\n",
    "if p_value < alpha:\n",
    "    print(\"Reject the null hypothesis: The mean sepal_length of the sample is statistically different from the hypothesized mean.\")\n",
    "else:\n",
    "    print(\"Fail to reject the null hypothesis: The data does not provide enough evidence to say the mean sepal_length is different from the hypothesized mean.\")\n"
   ]
  },
  {
   "cell_type": "code",
   "execution_count": null,
   "id": "77264563",
   "metadata": {},
   "outputs": [],
   "source": []
  }
 ],
 "metadata": {
  "kernelspec": {
   "display_name": "Python 3 (ipykernel)",
   "language": "python",
   "name": "python3"
  },
  "language_info": {
   "codemirror_mode": {
    "name": "ipython",
    "version": 3
   },
   "file_extension": ".py",
   "mimetype": "text/x-python",
   "name": "python",
   "nbconvert_exporter": "python",
   "pygments_lexer": "ipython3",
   "version": "3.9.13"
  }
 },
 "nbformat": 4,
 "nbformat_minor": 5
}
